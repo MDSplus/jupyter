{
 "cells": [
  {
   "cell_type": "code",
   "execution_count": 1,
   "metadata": {
    "scrolled": true
   },
   "outputs": [
    {
     "name": "stdout",
     "output_type": "stream",
     "text": [
      "\n",
      "  MDSDCL commands:\n",
      "  @              - Execute a command script\n",
      "  DEFINE         - Define a macro.\n",
      "  DEFINE/SYMBOL  - Define an environment variable. (deprecated, use env)\n",
      "  DELETE/MACRO   - Delete a defined command macro.\n",
      "  DO/MACRO       - Execute a macro.\n",
      "  ENV            - Define an environment variable.\n",
      "  EXIT           - Exit the command interpreter utility. (same as QUIT)\n",
      "  HELP           - Help on available commands.\n",
      "  INIT TIMER     - Initialize a timer.\n",
      "  QUIT           - Exit the command interpreter utility. (same as EXIT)\n",
      "  SET COMMAND    - Load additional commands to interpreter.\n",
      "  SET PROMPT     - Change the command prompt.\n",
      "  SET STOPONFAIL - Specify whether command scripts or macros should stop on an error.\n",
      "  SET VERIFY     - Turn command echoing on or off.\n",
      "  SHOW MACRO     - Show the contents of a macro\n",
      "  SHOW TIMER     - Show the timer information.\n",
      "  SHOW VERSION   - Show MDSplus version information.\n",
      "  SPAWN          - Execute a operating system shell command.\n",
      "  syntax         - Basic syntax of mdsdcl commands.\n",
      "  TYPE           - Print a message.\n",
      "  WAIT           - Wait for a specified period of time.\n",
      "\n",
      "  TCL (Tree Command Language) commands:\n",
      "  TCL is used for MDSplus tree examination and manipulation. \n",
      "  TCL can be used to examine the tree structure, store data to or get data\n",
      "  from nodes, examine or change node properties, or clean or compress the\n",
      "  datafile associated with a tree. These commands are listed\n",
      "  when you type:\n",
      "  HELP TREE COMMANDS\n",
      "  TCL can also be used for dispatching commands or actions to action servers\n",
      "  or to directly execute actions or methods provided by devices described in\n",
      "  the tree. For help on dispatching related commands type:\n",
      "  HELP DISPATCH COMMANDS\n",
      "  With TCL using edit commands you can create a new tree structure or modify\n",
      "  an existing one by adding, deleting or renaming nodes and adding tagnames\n",
      "  to give direct addressing of nodes in the tree. For edit commands type:\n",
      "  HELP EDIT COMMANDS\n",
      "  TCL can also issue and wait for MDSplus events. See:\n",
      "  HELP WFEVENT and HELP SETEVENT\n",
      "\n",
      "Type 'help command-name' for more info\n",
      "\n"
     ]
    }
   ],
   "source": [
    "help"
   ]
  },
  {
   "cell_type": "code",
   "execution_count": 4,
   "metadata": {},
   "outputs": [
    {
     "name": "stdout",
     "output_type": "stream",
     "text": []
    },
    {
     "name": "stderr",
     "output_type": "stream",
     "text": [
      "gub\n",
      "mdsdcl: No such command\n"
     ]
    },
    {
     "name": "stdout",
     "output_type": "stream",
     "text": [
      "000  MAIN          shot: -1 [\\MAIN::TOP]   \n",
      "\n"
     ]
    }
   ],
   "source": [
    "env main_path=/usr/local/mdsplus/trees\n",
    "set tree main\n",
    "gub\n",
    "show db"
   ]
  },
  {
   "cell_type": "code",
   "execution_count": 5,
   "metadata": {},
   "outputs": [
    {
     "name": "stdout",
     "output_type": "stream",
     "text": [
      "\n",
      "\\MAIN::TOP\n",
      "\n",
      " :MEMBER       :NUMERIC      :SIGNAL       :TEXT        \n",
      "\n",
      "  CHILD         SUBTREE     \n",
      "\n",
      "Total of 6 nodes.\n"
     ]
    }
   ],
   "source": [
    "dir"
   ]
  },
  {
   "cell_type": "code",
   "execution_count": 7,
   "metadata": {},
   "outputs": [
    {
     "name": "stdout",
     "output_type": "stream",
     "text": [
      "test\n"
     ]
    }
   ],
   "source": [
    "type test"
   ]
  },
  {
   "cell_type": "code",
   "execution_count": 8,
   "metadata": {},
   "outputs": [
    {
     "name": "stdout",
     "output_type": "stream",
     "text": [
      "Checking server: gub\n",
      "Error connecting to server\n"
     ]
    }
   ],
   "source": [
    "show server gub"
   ]
  },
  {
   "cell_type": "code",
   "execution_count": null,
   "metadata": {
    "collapsed": true
   },
   "outputs": [],
   "source": []
  }
 ],
 "metadata": {
  "kernelspec": {
   "display_name": "Mdstcl",
   "language": "text",
   "name": "mdstcl"
  },
  "language_info": {
   "file_extension": ".tcl",
   "mimetype": "text/plain",
   "name": "mdstcl commands"
  }
 },
 "nbformat": 4,
 "nbformat_minor": 2
}
